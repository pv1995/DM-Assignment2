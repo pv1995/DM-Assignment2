{
  "nbformat": 4,
  "nbformat_minor": 0,
  "metadata": {
    "colab": {
      "provenance": [],
      "toc_visible": true,
      "authorship_tag": "ABX9TyPJGBoG78M32CGlUCaVvm6f",
      "include_colab_link": true
    },
    "kernelspec": {
      "name": "python3",
      "display_name": "Python 3"
    },
    "language_info": {
      "name": "python"
    }
  },
  "cells": [
    {
      "cell_type": "markdown",
      "metadata": {
        "id": "view-in-github",
        "colab_type": "text"
      },
      "source": [
        "<a href=\"https://colab.research.google.com/github/pv1995/DM-Assignment2/blob/main/DataMiningAssignment2.ipynb\" target=\"_parent\"><img src=\"https://colab.research.google.com/assets/colab-badge.svg\" alt=\"Open In Colab\"/></a>"
      ]
    },
    {
      "cell_type": "code",
      "execution_count": null,
      "metadata": {
        "id": "iB13PjLIuzCb"
      },
      "outputs": [],
      "source": [
        "datapath=\"https://course.ccs.neu.edu/cs6220/homework-2/data/soc-LiveJournal1Adj.txt\" #@param "
      ]
    },
    {
      "cell_type": "code",
      "source": [
        "!pip install pyspark\n",
        "!pip install -U -q PyDrive\n",
        "!apt install openjdk-8-jdk-headless -qq\n",
        "import os\n",
        "os.environ[\"JAVA_HOME\"] = \"/usr/lib/jvm/java-8-openjdk-amd64\"\n",
        "import itertools\n",
        "import sys\n",
        "from pyspark.sql import *\n",
        "# from pyspark.sql.functions import *\n",
        "from pyspark import SparkContext\n",
        "import pandas as pd\n",
        "\n",
        "# create the Spark Session\n",
        "spark = SparkSession.builder.getOrCreate()\n",
        "\n",
        "# create the Spark Context\n",
        "sc = spark.sparkContext"
      ],
      "metadata": {
        "id": "sMIeuvGOvNtn",
        "colab": {
          "base_uri": "https://localhost:8080/"
        },
        "outputId": "b73535b0-bbbf-4736-b0ba-0343a5db3ffa"
      },
      "execution_count": null,
      "outputs": [
        {
          "output_type": "stream",
          "name": "stdout",
          "text": [
            "Looking in indexes: https://pypi.org/simple, https://us-python.pkg.dev/colab-wheels/public/simple/\n",
            "Requirement already satisfied: pyspark in /usr/local/lib/python3.9/dist-packages (3.3.2)\n",
            "Requirement already satisfied: py4j==0.10.9.5 in /usr/local/lib/python3.9/dist-packages (from pyspark) (0.10.9.5)\n",
            "openjdk-8-jdk-headless is already the newest version (8u362-ga-0ubuntu1~20.04.1).\n",
            "0 upgraded, 0 newly installed, 0 to remove and 22 not upgraded.\n"
          ]
        }
      ]
    },
    {
      "cell_type": "code",
      "source": [
        "!wget https://course.ccs.neu.edu/cs6220/homework-2/data/soc-LiveJournal1Adj.txt"
      ],
      "metadata": {
        "colab": {
          "base_uri": "https://localhost:8080/"
        },
        "id": "FJ7g-b69wfO7",
        "outputId": "19f52f64-f06d-4000-ef74-b94dae8268cd"
      },
      "execution_count": null,
      "outputs": [
        {
          "output_type": "stream",
          "name": "stdout",
          "text": [
            "--2023-03-12 00:25:27--  https://course.ccs.neu.edu/cs6220/homework-2/data/soc-LiveJournal1Adj.txt\n",
            "Resolving course.ccs.neu.edu (course.ccs.neu.edu)... 129.10.117.35\n",
            "Connecting to course.ccs.neu.edu (course.ccs.neu.edu)|129.10.117.35|:443... connected.\n",
            "HTTP request sent, awaiting response... 200 OK\n",
            "Length: 4156181 (4.0M) [text/plain]\n",
            "Saving to: ‘soc-LiveJournal1Adj.txt.1’\n",
            "\n",
            "\r          soc-LiveJ   0%[                    ]       0  --.-KB/s               \rsoc-LiveJournal1Adj 100%[===================>]   3.96M  --.-KB/s    in 0.1s    \n",
            "\n",
            "2023-03-12 00:25:27 (39.9 MB/s) - ‘soc-LiveJournal1Adj.txt.1’ saved [4156181/4156181]\n",
            "\n"
          ]
        }
      ]
    },
    {
      "cell_type": "markdown",
      "source": [
        "The function \"get_all_friends\" parses a line from soc-LiveJournal1Adj.txt into a \"friend ownership\" structure.\n",
        "For example, the line: ``0    1,2,3,4`` will get parsed to:\n",
        "``(0, [1, 2, 3, 4])``\n",
        "That is, a python tuple where the first element is an int and the second element is a List[int]"
      ],
      "metadata": {
        "id": "vdZAkas86dKE"
      }
    },
    {
      "cell_type": "code",
      "source": [
        "def get_all_friends(line):\n",
        "    split = line.split()\n",
        "    user_id = int(split[0])\n",
        "\n",
        "    if len(split) == 1:\n",
        "        friends = []\n",
        "    else:\n",
        "        friends = list(map(lambda x: int(x), split[1].split(',')))\n",
        "\n",
        "    return user_id, friends"
      ],
      "metadata": {
        "id": "994W4nl6vyOe"
      },
      "execution_count": null,
      "outputs": []
    },
    {
      "cell_type": "markdown",
      "source": [
        "The function \"get_each_friend\" maps the \"friend ownership\" structure to an array of connections.\n",
        "For example, the value ``(0, [1, 2, 3])`` will get mapped to:\n",
        "        [\n",
        "            ((0,1), 0),\n",
        "            ((0,2), 0),\n",
        "            ((0,3), 0),\n",
        "            ((1,2), 1),\n",
        "            ((1,3), 1),\n",
        "            ((2,3), 1)\n",
        "        ]\n",
        "The \"friend ownership\" structure is converted a list of all connection information embedded in the structure. For example, users 0 and 1 are already connected, so that connection is represented by ``((0,1), 0)``, where ``0`` indicates that these users are currently friends.\n",
        "The structure also encodes the fact that users 1 and 2 have a mutual friend (in the above example, the mutual friend 0). So, the resulting connection is represented by ``((1,2), 1)``, where ``1`` indicates that these users share 1 mutual friend."
      ],
      "metadata": {
        "id": "EVS8rf1SB1kZ"
      }
    },
    {
      "cell_type": "code",
      "source": [
        "def get_each_friend(f_o):\n",
        "    user_id = f_o[0]\n",
        "    friends = f_o[1]\n",
        "\n",
        "    connections = []\n",
        "\n",
        "    for friend_id in friends:\n",
        "        key = (user_id, friend_id)\n",
        "        if user_id > friend_id:\n",
        "            key = (friend_id, user_id)\n",
        "\n",
        "        connections.append(\n",
        "            (key, 0)\n",
        "        )\n",
        "\n",
        "    for friend_pair in itertools.combinations(friends, 2):\n",
        "        friend_0 = friend_pair[0]\n",
        "        friend_1 = friend_pair[1]\n",
        "\n",
        "        key = (friend_0, friend_1)\n",
        "        if friend_0 > friend_1:\n",
        "            key = (friend_1, friend_0)\n",
        "        connections.append(\n",
        "            (key, 1)\n",
        "        )\n",
        "\n",
        "    return connections\n"
      ],
      "metadata": {
        "id": "8TZSsjfpv8Bb"
      },
      "execution_count": null,
      "outputs": []
    },
    {
      "cell_type": "markdown",
      "source": [
        "The function \"map_mutual_friend_to_recommendation\" maps a mutual friend count to two distinct recommendations. For example lets say for user Id 1 and user Id 2 there are 21 mutual firends then ``((1, 2), 21)`` encodes that users 1 and 2 share 21 mutual friends. This means that user 1 should be recommended to user 2 AND that user 2 should be recommended to user 1."
      ],
      "metadata": {
        "id": "8-LSM0elGoa-"
      }
    },
    {
      "cell_type": "code",
      "source": [
        "def map_mutual_friend_to_recommendation(m):\n",
        "    connection = m[0]\n",
        "    count = m[1]\n",
        "\n",
        "    friend_0 = connection[0]\n",
        "    friend_1 = connection[1]\n",
        "\n",
        "    recommendation_0 = (friend_0, (friend_1, count))\n",
        "    recommendation_1 = (friend_1, (friend_0, count))\n",
        "\n",
        "    return [recommendation_0, recommendation_1]"
      ],
      "metadata": {
        "id": "g_OVcJowwE1Q"
      },
      "execution_count": null,
      "outputs": []
    },
    {
      "cell_type": "markdown",
      "source": [
        "The function \"sort_recommendations\" sorts and truncates the top 10 recommendations based on the total number of mutual firends. The function first sorts by mutual friend count, then by user_id (for equal number of mutual friends between users)."
      ],
      "metadata": {
        "id": "J4j3MTVNHxRG"
      }
    },
    {
      "cell_type": "code",
      "source": [
        "def sort_recommendations(recs):\n",
        "    if len(recs) > 1024:\n",
        "\n",
        "        max_indices = []\n",
        "\n",
        "        for current_rec_number in range(0, 10):\n",
        "            current_max_index = 0\n",
        "            for i in range(1, len(recs)):\n",
        "                rec = recs[i]\n",
        "                if rec[1] >= recs[current_max_index][1] and i not in max_indices:\n",
        "                    current_max_index = i\n",
        "\n",
        "            max_indices.append(current_max_index)\n",
        "\n",
        "        recs = [recs[i] for i in max_indices]\n",
        "\n",
        "    # Sort first by mutual friend count, then by user_id (for equal number of mutual friends between users)\n",
        "    recs.sort(key=lambda x: (-x[1], x[0]))\n",
        "\n",
        "    # Map every [(user_id, mutual_count), ...] to [user_id, ...] and truncate to 10 elements\n",
        "    return list(map(lambda x: x[0], recs))[:10]"
      ],
      "metadata": {
        "id": "yQk8uA4ywOAb"
      },
      "execution_count": null,
      "outputs": []
    },
    {
      "cell_type": "markdown",
      "source": [
        "Below is the main driver of all functions. The output of recommendations is finally stored in Output.txt"
      ],
      "metadata": {
        "id": "iIFQvZzzIqQ1"
      }
    },
    {
      "cell_type": "code",
      "source": [
        "lines = sc.textFile(\"soc-LiveJournal1Adj.txt\")\n",
        "\n",
        "all_friends = lines.map(get_all_friends)\n",
        "\n",
        "\n",
        "# VALUE = 0 indicates that user_id and friend_id are already friends.\n",
        "# VALUE = 1 indicates that user_id and friend_id are not friends.\n",
        "friend_edges = all_friends.flatMap(get_each_friend)\n",
        "friend_edges.cache()\n",
        "\n",
        "\n",
        "mutual_friend_counts = friend_edges.groupByKey() \\\n",
        "    .filter(lambda edge: 0 not in edge[1]) \\\n",
        "    .map(lambda edge: (edge[0], sum(edge[1])))\n",
        "\n",
        "\n",
        "recommendations = mutual_friend_counts.flatMap(map_mutual_friend_to_recommendation) \\\n",
        "    .groupByKey() \\\n",
        "    .map(lambda m: (m[0], sort_recommendations(list(m[1]))))\n",
        "\n",
        "recommendations.collect()\n",
        "\n",
        "recommendations.saveAsTextFile(\"Output\")\n",
        "sc.stop()\n"
      ],
      "metadata": {
        "id": "C8tXFhiAwV0z"
      },
      "execution_count": null,
      "outputs": []
    }
  ]
}